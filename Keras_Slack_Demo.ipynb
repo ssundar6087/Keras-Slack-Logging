{
  "nbformat": 4,
  "nbformat_minor": 0,
  "metadata": {
    "colab": {
      "name": "Keras Slack Demo.ipynb",
      "provenance": [],
      "collapsed_sections": [],
      "toc_visible": true,
      "mount_file_id": "1VYBJLEfvTj-v2kxxpEk_lok4pPaz3v7a",
      "authorship_tag": "ABX9TyM+mVAHCK6sMP1xwCsgfvm6",
      "include_colab_link": true
    },
    "kernelspec": {
      "name": "python3",
      "display_name": "Python 3"
    },
    "accelerator": "GPU"
  },
  "cells": [
    {
      "cell_type": "markdown",
      "metadata": {
        "id": "view-in-github",
        "colab_type": "text"
      },
      "source": [
        "<a href=\"https://colab.research.google.com/github/ssundar6087/Keras-Slack-Logging/blob/master/Keras_Slack_Demo.ipynb\" target=\"_parent\"><img src=\"https://colab.research.google.com/assets/colab-badge.svg\" alt=\"Open In Colab\"/></a>"
      ]
    },
    {
      "cell_type": "markdown",
      "metadata": {
        "id": "wzc22T_Xejl6",
        "colab_type": "text"
      },
      "source": [
        "Keras Callbacks with Slack\n",
        "===========================\n",
        "\n",
        "Here's a very simple notebook showing how you can use [Keras](https://keras.io) callbacks to send you updates of your training run to Slack!\n",
        "\n",
        "**Disclaimers:**\n",
        "1. This is _one_ of the ways to do this, and there are perhaps better ways to do this than what I've shown here.\n",
        "\n",
        "2. The objective of this notebook is **not** to show some model train to SOTA, so the hyperparameters are randomly chosen just to show the model training.\n",
        "\n",
        "3. For specific usage questions, check out the [WebClient API](https://slack.dev/node-slack-sdk/web-api)\n",
        "\n",
        "**What's not covered here:**\n",
        "I will be writing a blog post to accompany this notebook to walk through some of the things that are not covered here:\n",
        "\n",
        "1. Setting up your slack workspace\n",
        "2. Creating a bot and a slack api token\n",
        "3. Possible Kaggle Integration"
      ]
    },
    {
      "cell_type": "markdown",
      "metadata": {
        "id": "H8pRhB88kaTp",
        "colab_type": "text"
      },
      "source": [
        "## Setup Slackclient\n"
      ]
    },
    {
      "cell_type": "code",
      "metadata": {
        "id": "imOL3jtpZf5n",
        "colab_type": "code",
        "outputId": "2669fb40-d2dc-48ec-f712-9434d31931a4",
        "colab": {
          "base_uri": "https://localhost:8080/",
          "height": 207
        }
      },
      "source": [
        "!pip3 install slackclient"
      ],
      "execution_count": 12,
      "outputs": [
        {
          "output_type": "stream",
          "text": [
            "Requirement already satisfied: slackclient in /usr/local/lib/python3.6/dist-packages (2.7.1)\n",
            "Requirement already satisfied: aiohttp<4.0.0,>3.5.2 in /usr/local/lib/python3.6/dist-packages (from slackclient) (3.6.2)\n",
            "Requirement already satisfied: chardet<4.0,>=2.0 in /usr/local/lib/python3.6/dist-packages (from aiohttp<4.0.0,>3.5.2->slackclient) (3.0.4)\n",
            "Requirement already satisfied: multidict<5.0,>=4.5 in /usr/local/lib/python3.6/dist-packages (from aiohttp<4.0.0,>3.5.2->slackclient) (4.7.6)\n",
            "Requirement already satisfied: idna-ssl>=1.0; python_version < \"3.7\" in /usr/local/lib/python3.6/dist-packages (from aiohttp<4.0.0,>3.5.2->slackclient) (1.1.0)\n",
            "Requirement already satisfied: yarl<2.0,>=1.0 in /usr/local/lib/python3.6/dist-packages (from aiohttp<4.0.0,>3.5.2->slackclient) (1.4.2)\n",
            "Requirement already satisfied: attrs>=17.3.0 in /usr/local/lib/python3.6/dist-packages (from aiohttp<4.0.0,>3.5.2->slackclient) (19.3.0)\n",
            "Requirement already satisfied: async-timeout<4.0,>=3.0 in /usr/local/lib/python3.6/dist-packages (from aiohttp<4.0.0,>3.5.2->slackclient) (3.0.1)\n",
            "Requirement already satisfied: typing-extensions>=3.6.5; python_version < \"3.7\" in /usr/local/lib/python3.6/dist-packages (from aiohttp<4.0.0,>3.5.2->slackclient) (3.6.6)\n",
            "Requirement already satisfied: idna>=2.0 in /usr/local/lib/python3.6/dist-packages (from idna-ssl>=1.0; python_version < \"3.7\"->aiohttp<4.0.0,>3.5.2->slackclient) (2.9)\n"
          ],
          "name": "stdout"
        }
      ]
    },
    {
      "cell_type": "markdown",
      "metadata": {
        "id": "XMUckdYPlhsW",
        "colab_type": "text"
      },
      "source": [
        "## Usual Imports\n"
      ]
    },
    {
      "cell_type": "code",
      "metadata": {
        "id": "qM3pFrxYYWAB",
        "colab_type": "code",
        "colab": {
          "base_uri": "https://localhost:8080/",
          "height": 51
        },
        "outputId": "df5b991f-bdc6-494f-b579-eb4227747aff"
      },
      "source": [
        "from __future__ import print_function\n",
        "import tensorflow.keras as keras\n",
        "from tensorflow.keras.datasets import mnist\n",
        "from tensorflow.keras.models import Sequential\n",
        "from tensorflow.keras.layers import Dense, Dropout, Flatten\n",
        "from tensorflow.keras.layers import Conv2D, MaxPooling2D\n",
        "from tensorflow.keras import backend as K\n",
        "import numpy as np\n",
        "import matplotlib.pyplot as plt\n",
        "%matplotlib inline\n",
        "%load_ext autoreload\n",
        "%autoreload 2 "
      ],
      "execution_count": 13,
      "outputs": [
        {
          "output_type": "stream",
          "text": [
            "The autoreload extension is already loaded. To reload it, use:\n",
            "  %reload_ext autoreload\n"
          ],
          "name": "stdout"
        }
      ]
    },
    {
      "cell_type": "markdown",
      "metadata": {
        "id": "FFTXMSJWloeq",
        "colab_type": "text"
      },
      "source": [
        "## The Slack Part\n",
        "This is the part you would need to modify and integrate into your script"
      ]
    },
    {
      "cell_type": "markdown",
      "metadata": {
        "id": "E8OMgyJStvuq",
        "colab_type": "text"
      },
      "source": [
        "### Slack specific imports\n",
        "Two points to note here:\n",
        "1. You **NEED** to have a [Slack API token](https://slack.com/help/articles/215770388-Create-and-regenerate-API-tokens) to get any of this to work.\n",
        "2. Don't paste the API token in all your notebooks/scripts. It's **not** safe! Did I mention that it's **not** safe?\n",
        "  - I use google drive as a way to import my api token into scripts where I'd like Slack notifications."
      ]
    },
    {
      "cell_type": "code",
      "metadata": {
        "id": "zae-YJarlve9",
        "colab_type": "code",
        "colab": {}
      },
      "source": [
        "from slack import WebClient\n",
        "from slack.errors import SlackApiError"
      ],
      "execution_count": 0,
      "outputs": []
    },
    {
      "cell_type": "code",
      "metadata": {
        "id": "_SfZZR0lTCNC",
        "colab_type": "code",
        "outputId": "b9dfc880-b2a5-4362-bd7d-7beda66c90e7",
        "colab": {
          "base_uri": "https://localhost:8080/",
          "height": 34
        }
      },
      "source": [
        "# Mount google drive \n",
        "from google.colab import drive\n",
        "drive.mount('/content/drive');"
      ],
      "execution_count": 15,
      "outputs": [
        {
          "output_type": "stream",
          "text": [
            "Drive already mounted at /content/drive; to attempt to forcibly remount, call drive.mount(\"/content/drive\", force_remount=True).\n"
          ],
          "name": "stdout"
        }
      ]
    },
    {
      "cell_type": "markdown",
      "metadata": {
        "id": "vT7jABD54PVm",
        "colab_type": "text"
      },
      "source": [
        "#### Change the path below to point to your API token"
      ]
    },
    {
      "cell_type": "code",
      "metadata": {
        "id": "mA4CSFyEd1un",
        "colab_type": "code",
        "colab": {}
      },
      "source": [
        "token_file_path = \"PATH/TO/YOUR/SLACK_API_TOKEN\"\n",
        "f = open(token_file_path, \"r\")\n",
        "api_token= f.read()"
      ],
      "execution_count": 0,
      "outputs": []
    },
    {
      "cell_type": "markdown",
      "metadata": {
        "id": "b4XxrrmsqHbO",
        "colab_type": "text"
      },
      "source": [
        "### Here's the Main Puzzle Piece\n",
        "A Keras callback has some really nifty features where you can get information on the loss and accuracy values at regular intervals. We will be piggybacking on these callbacks to send messages to a slack channel of our choosing."
      ]
    },
    {
      "cell_type": "code",
      "metadata": {
        "id": "GyTOlDejZObP",
        "colab_type": "code",
        "colab": {}
      },
      "source": [
        "class SlackCallback(keras.callbacks.Callback):\n",
        "    def __init__(self, \n",
        "                 token, \n",
        "                 channel='general', \n",
        "                 monitor='val_loss', \n",
        "                 mode='min',\n",
        "                 message='Epoch {epoch:03d} loss:{loss:.4f} val_loss:{val_loss:.4f}',\n",
        "                 model_description='Hello World',\n",
        "                 plot=['loss','val_loss']):\n",
        "        super(SlackCallback, self).__init__()\n",
        "                 \n",
        "        # The Slack API token\n",
        "        self.token=token\n",
        "\n",
        "        # The Slack Channel to Post to\n",
        "        self.channel=channel\n",
        "\n",
        "        # This allows you to create a thread and then post each new update \n",
        "        # within a thread: Prevents an explosion of new messages in the channel\n",
        "        self.thread_id=None\n",
        "\n",
        "        # What to print in the channel\n",
        "        self.message=message\n",
        "\n",
        "        # Bells and Whistles   \n",
        "        self.monitor=monitor\n",
        "        self.losses=[]\n",
        "        self.error=False\n",
        "        self.model_description=model_description\n",
        "        if mode=='min':\n",
        "            self.operation=np.less\n",
        "            self.best=np.Inf\n",
        "        if mode=='max':\n",
        "            self.operation=np.greater\n",
        "            self.best=-np.Inf\n",
        "        \n",
        "        self.best_logs={}\n",
        "        self.best_epoch=1\n",
        "        self.plot=plot or [] \n",
        "\n",
        "\n",
        "    # Initialize things here\n",
        "    # If you can't send a basic message to slack, something's wrong\n",
        "    # with the setup\n",
        "    def on_train_begin(self, logs={}):\n",
        "        response=self.send_message(self.model_description)\n",
        "        if response['ok']:\n",
        "            self.error=False\n",
        "            # Attach every subsequent message (training logs) to this thread\n",
        "            self.thread_id=response['ts']\n",
        "        else:\n",
        "            self.error=True\n",
        "            warnings.warn('Slack error:'+str(response))\n",
        "        \n",
        "    # After every epoch, we send updates to the channel with the latest values\n",
        "    def on_epoch_end(self, epoch, logs={}):\n",
        "        self.losses.append(logs)\n",
        "        if self.operation(logs[self.monitor],self.best):\n",
        "            self.send_message(self.message.format(epoch=epoch+1,**logs))\n",
        "            self.best=logs[self.monitor]\n",
        "            self.best_logs=logs\n",
        "            self.best_epoch=epoch+1\n",
        "\n",
        "    # At the end of training, send the statistics of the best model \n",
        "    # and send a plot of the training loss curves\n",
        "    def on_train_end(self, logs=None):\n",
        "        self.send_message('Best Model has:\\n'+self.message.format(epoch=self.best_epoch,**self.best_logs))\n",
        "        plt.figure(figsize=(10,10))\n",
        "        for p in self.plot:\n",
        "            plt.plot([log[p] for log in self.losses],label=p)\n",
        "            plt.xlabel('Epoch')\n",
        "            plt.ylabel('Loss')\n",
        "            plt.grid(True)\n",
        "            plt.legend()\n",
        "            plt.title(\"Loss Curve\")\n",
        "\n",
        "        # You can probably make this more fancy\n",
        "        out = 'LearningCurve.png'\n",
        "        plt.savefig(fname=out,format='png')\n",
        "        response=self.send_image(filename=out)\n",
        "        plt.show()\n",
        "    \n",
        "    # Helper method 1: Sends a message to the slack channel\n",
        "    def send_message(self,text):\n",
        "        if not self.error:\n",
        "          sc = WebClient(self.token)\n",
        "          return sc.chat_postMessage(channel=self.channel,text=text,thread_ts=self.thread_id)\n",
        "    \n",
        "    # Helper method 2: Sends a file to the slack channel\n",
        "    def send_image(self,filename):\n",
        "        if not self.error:\n",
        "            sc = WebClient(self.token)\n",
        "            file_path=filename\n",
        "            with open(file_path, \"rb\"):\n",
        "              response = sc.files_upload(channels=self.channel,file=file_path, thread_ts=self.thread_id, title=\"Learning Curve\", filetype='png')"
      ],
      "execution_count": 0,
      "outputs": []
    },
    {
      "cell_type": "markdown",
      "metadata": {
        "id": "rrguEf_6oITi",
        "colab_type": "text"
      },
      "source": [
        "## The Deep Learning Part\n",
        "The steps here are what you'd probably do to get a model training on a dataset"
      ]
    },
    {
      "cell_type": "code",
      "metadata": {
        "id": "1Wf6loJ3YhjD",
        "colab_type": "code",
        "colab": {}
      },
      "source": [
        "batch_size = 128\n",
        "num_classes = 10\n",
        "epochs = 10\n",
        "\n",
        "# input image dimensions\n",
        "img_rows, img_cols = 28, 28"
      ],
      "execution_count": 0,
      "outputs": []
    },
    {
      "cell_type": "code",
      "metadata": {
        "id": "XpSblTk8Yv0h",
        "colab_type": "code",
        "outputId": "c6ed006a-790b-4d1a-ed0c-f2d9ab2c5a3b",
        "colab": {
          "base_uri": "https://localhost:8080/",
          "height": 68
        }
      },
      "source": [
        "# the data, split between train and test sets\n",
        "mnist = keras.datasets.mnist\n",
        "\n",
        "(x_train, y_train), (x_test, y_test) = mnist.load_data()\n",
        "\n",
        "if K.image_data_format() == 'channels_first':\n",
        "    x_train = x_train.reshape(x_train.shape[0], 1, img_rows, img_cols)\n",
        "    x_test = x_test.reshape(x_test.shape[0], 1, img_rows, img_cols)\n",
        "    input_shape = (1, img_rows, img_cols)\n",
        "else:\n",
        "    x_train = x_train.reshape(x_train.shape[0], img_rows, img_cols, 1)\n",
        "    x_test = x_test.reshape(x_test.shape[0], img_rows, img_cols, 1)\n",
        "    input_shape = (img_rows, img_cols, 1)\n",
        "\n",
        "x_train = x_train.astype('float32')\n",
        "x_test = x_test.astype('float32')\n",
        "x_train /= 255\n",
        "x_test /= 255\n",
        "print('x_train shape:', x_train.shape)\n",
        "print(x_train.shape[0], 'train samples')\n",
        "print(x_test.shape[0], 'test samples')"
      ],
      "execution_count": 19,
      "outputs": [
        {
          "output_type": "stream",
          "text": [
            "x_train shape: (60000, 28, 28, 1)\n",
            "60000 train samples\n",
            "10000 test samples\n"
          ],
          "name": "stdout"
        }
      ]
    },
    {
      "cell_type": "code",
      "metadata": {
        "id": "97YtF9dwY1jx",
        "colab_type": "code",
        "colab": {}
      },
      "source": [
        "# convert class vectors to binary class matrices\n",
        "y_train = keras.utils.to_categorical(y_train, num_classes)\n",
        "y_test = keras.utils.to_categorical(y_test, num_classes)\n",
        "\n",
        "model = Sequential()\n",
        "model.add(Conv2D(32, kernel_size=(3, 3),\n",
        "                 activation='relu',\n",
        "                 input_shape=input_shape))\n",
        "model.add(Conv2D(64, (3, 3), activation='relu'))\n",
        "model.add(MaxPooling2D(pool_size=(2, 2)))\n",
        "model.add(Dropout(0.25))\n",
        "model.add(Flatten())\n",
        "model.add(Dense(128, activation='relu'))\n",
        "model.add(Dropout(0.5))\n",
        "model.add(Dense(num_classes, activation='softmax'))\n",
        "model.compile(loss=keras.losses.categorical_crossentropy,\n",
        "              optimizer=keras.optimizers.Adadelta(),\n",
        "              metrics=['accuracy'])"
      ],
      "execution_count": 0,
      "outputs": []
    },
    {
      "cell_type": "markdown",
      "metadata": {
        "id": "ma-gpIPZoSL2",
        "colab_type": "text"
      },
      "source": [
        "### Oh, and one more thing..\n",
        "\n",
        "Before you call `model.fit()` and fire away a training run, you need to create the callback first :)"
      ]
    },
    {
      "cell_type": "code",
      "metadata": {
        "id": "aYt6QmU5eQtt",
        "colab_type": "code",
        "colab": {}
      },
      "source": [
        "# For slack integration to work\n",
        "\n",
        "# This is a sample description which gives you context into the messages received\n",
        "# from this run\n",
        "description = 'MNIST Model tf.Keras {} epochs, lr {}, batch_size {}'.format(epochs, 0.001, batch_size) \n",
        "\n",
        "# This is the message that you will see within the thread\n",
        "# I'm printing the epoch, the losses and the accuracies\n",
        "message = 'Epoch {epoch:03d} loss:{loss:.4f} val loss:{val_loss:.4f} acc:{accuracy:.4f} val acc:{val_accuracy:.4f} '\n",
        "slack_ = SlackCallback(api_token, channel='general', model_description=description,mode='max', monitor='val_accuracy',message=message)"
      ],
      "execution_count": 0,
      "outputs": []
    },
    {
      "cell_type": "markdown",
      "metadata": {
        "id": "dvUXJW4ioqwx",
        "colab_type": "text"
      },
      "source": [
        "### And now we're ready to train!"
      ]
    },
    {
      "cell_type": "code",
      "metadata": {
        "id": "X3gsk5dlY8Gy",
        "colab_type": "code",
        "outputId": "3b7137a4-6f40-4084-a910-211429113bb6",
        "colab": {
          "base_uri": "https://localhost:8080/",
          "height": 995
        }
      },
      "source": [
        "model.fit(x_train, y_train,\n",
        "          batch_size=batch_size,\n",
        "          epochs=epochs,\n",
        "          verbose=1,\n",
        "          validation_data=(x_test, y_test),\n",
        "          callbacks=[slack_])\n",
        "score = model.evaluate(x_test, y_test, verbose=0)\n",
        "print('Test loss:', score[0])\n",
        "print('Test accuracy:', score[1])"
      ],
      "execution_count": 22,
      "outputs": [
        {
          "output_type": "stream",
          "text": [
            "Epoch 1/10\n",
            "469/469 [==============================] - 3s 7ms/step - loss: 2.2906 - accuracy: 0.1446 - val_loss: 2.2668 - val_accuracy: 0.3160\n",
            "Epoch 2/10\n",
            "469/469 [==============================] - 3s 7ms/step - loss: 2.2532 - accuracy: 0.2530 - val_loss: 2.2230 - val_accuracy: 0.4216\n",
            "Epoch 3/10\n",
            "469/469 [==============================] - 3s 7ms/step - loss: 2.2063 - accuracy: 0.3387 - val_loss: 2.1639 - val_accuracy: 0.5078\n",
            "Epoch 4/10\n",
            "469/469 [==============================] - 3s 7ms/step - loss: 2.1414 - accuracy: 0.3999 - val_loss: 2.0797 - val_accuracy: 0.5717\n",
            "Epoch 5/10\n",
            "469/469 [==============================] - 3s 7ms/step - loss: 2.0505 - accuracy: 0.4525 - val_loss: 1.9609 - val_accuracy: 0.6257\n",
            "Epoch 6/10\n",
            "469/469 [==============================] - 3s 7ms/step - loss: 1.9278 - accuracy: 0.5074 - val_loss: 1.8026 - val_accuracy: 0.6710\n",
            "Epoch 7/10\n",
            "469/469 [==============================] - 3s 7ms/step - loss: 1.7722 - accuracy: 0.5497 - val_loss: 1.6098 - val_accuracy: 0.7085\n",
            "Epoch 8/10\n",
            "469/469 [==============================] - 3s 7ms/step - loss: 1.6023 - accuracy: 0.5841 - val_loss: 1.4029 - val_accuracy: 0.7434\n",
            "Epoch 9/10\n",
            "469/469 [==============================] - 3s 7ms/step - loss: 1.4318 - accuracy: 0.6154 - val_loss: 1.2092 - val_accuracy: 0.7775\n",
            "Epoch 10/10\n",
            "469/469 [==============================] - 3s 7ms/step - loss: 1.2854 - accuracy: 0.6424 - val_loss: 1.0478 - val_accuracy: 0.8020\n"
          ],
          "name": "stdout"
        },
        {
          "output_type": "display_data",
          "data": {
            "image/png": "[encoded data removed]",
            "text/plain": [
              "<Figure size 720x720 with 1 Axes>"
            ]
          },
          "metadata": {
            "tags": [],
            "needs_background": "light"
          }
        },
        {
          "output_type": "stream",
          "text": [
            "Test loss: 1.0478358268737793\n",
            "Test accuracy: 0.8019999861717224\n"
          ],
          "name": "stdout"
        }
      ]
    },
    {
      "cell_type": "markdown",
      "metadata": {
        "id": "yYP2ABH_6Ivw",
        "colab_type": "text"
      },
      "source": [
        "## How does it look on Slack?"
      ]
    },
    {
      "cell_type": "markdown",
      "metadata": {
        "id": "gPnn_EfB6MwM",
        "colab_type": "text"
      },
      "source": [
        "### Slack Channel Looks Good :)\n",
        "![](https://raw.githubusercontent.com/ssundar6087/Keras-Slack-Logging/master/assets/slack.png)"
      ]
    },
    {
      "cell_type": "code",
      "metadata": {
        "id": "-Vj1luXH95CH",
        "colab_type": "code",
        "colab": {}
      },
      "source": [
        ""
      ],
      "execution_count": 0,
      "outputs": []
    }
  ]
}